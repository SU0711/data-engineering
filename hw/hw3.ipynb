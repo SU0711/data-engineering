{
 "cells": [
  {
   "cell_type": "code",
   "execution_count": 1,
   "id": "610e9fea-13ad-4188-9fc8-595d52125ff6",
   "metadata": {},
   "outputs": [],
   "source": [
    "hairstyles = [\"bouffant\", \"pixie\", \"dreadlocks\", \"crew\", \"bowl\", \"bob\", \"mohawk\", \"flattop\"]\n",
    "prices = [30, 25, 40, 20, 20, 35, 50, 35]\n",
    "last_week = [2, 3, 5, 8, 4, 4, 6, 2]"
   ]
  },
  {
   "cell_type": "code",
   "execution_count": 2,
   "id": "51a1605e-2f00-4937-8c07-6e57cf90b6fd",
   "metadata": {},
   "outputs": [],
   "source": [
    "total_price = 0\n",
    "\n",
    "for price in prices:\n",
    "    total_price += price\n",
    "\n",
    "average_price = total_price / len(prices)"
   ]
  },
  {
   "cell_type": "code",
   "execution_count": 8,
   "id": "dc1cd8b4-bd3b-4e04-8623-9cf102e6c8a8",
   "metadata": {},
   "outputs": [
    {
     "name": "stdout",
     "output_type": "stream",
     "text": [
      "Average Price is 31.875\n"
     ]
    }
   ],
   "source": [
    "print(\"Average Price is \" + str(average_price))"
   ]
  },
  {
   "cell_type": "code",
   "execution_count": 9,
   "id": "d19f57de-ffdb-4886-8008-498cf633f619",
   "metadata": {},
   "outputs": [
    {
     "name": "stdout",
     "output_type": "stream",
     "text": [
      "[25, 20, 35, 15, 15, 30, 45, 30]\n"
     ]
    }
   ],
   "source": [
    "new_prices = [price - 5 for price in prices]\n",
    "print(new_prices)"
   ]
  },
  {
   "cell_type": "code",
   "execution_count": 10,
   "id": "a42b84bb-5a14-4f1c-9a63-a9e9968e7b6a",
   "metadata": {},
   "outputs": [
    {
     "name": "stdout",
     "output_type": "stream",
     "text": [
      "Average daily revenue is 155.0\n"
     ]
    }
   ],
   "source": [
    "total_revenue = 0\n",
    "\n",
    "for i in range(len(hairstyles)):\n",
    "    total_revenue += prices[i] * last_week[i]\n",
    "\n",
    "average_daily_revenue = total_revenue / 7\n",
    "\n",
    "print(\"Average daily revenue is\", format(average_daily_revenue, \".1f\"))"
   ]
  },
  {
   "cell_type": "code",
   "execution_count": 11,
   "id": "2eca735b-a66b-4ef3-a954-27b30060a117",
   "metadata": {},
   "outputs": [],
   "source": [
    "cuts_under_30 = [hairstyles[i] for i in range(len(new_prices)) if new_prices[i] < 30]"
   ]
  },
  {
   "cell_type": "code",
   "execution_count": 12,
   "id": "79efabdd-144d-40eb-b3fa-3c1502d34bf3",
   "metadata": {},
   "outputs": [
    {
     "name": "stdout",
     "output_type": "stream",
     "text": [
      "['bouffant', 'pixie', 'crew', 'bowl']\n"
     ]
    }
   ],
   "source": [
    "print(cuts_under_30)"
   ]
  },
  {
   "cell_type": "code",
   "execution_count": null,
   "id": "9f11b6ba-ad44-4d02-a2f6-0aac2314f2a0",
   "metadata": {},
   "outputs": [],
   "source": []
  }
 ],
 "metadata": {
  "kernelspec": {
   "display_name": "Python 3 (ipykernel)",
   "language": "python",
   "name": "python3"
  },
  "language_info": {
   "codemirror_mode": {
    "name": "ipython",
    "version": 3
   },
   "file_extension": ".py",
   "mimetype": "text/x-python",
   "name": "python",
   "nbconvert_exporter": "python",
   "pygments_lexer": "ipython3",
   "version": "3.9.13"
  }
 },
 "nbformat": 4,
 "nbformat_minor": 5
}
