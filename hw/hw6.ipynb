{
 "cells": [
  {
   "cell_type": "code",
   "execution_count": 1,
   "id": "999f6d92-1fc0-4860-8186-dc97a23fe561",
   "metadata": {},
   "outputs": [],
   "source": [
    "import numpy as np  \n",
    "import matplotlib.pyplot as plt  \n",
    "from mpl_toolkits.axes_grid1 import make_axes_locatable"
   ]
  },
  {
   "cell_type": "code",
   "execution_count": 2,
   "id": "d855e2ac-e37e-45bb-806b-6fa7d1c9e5ec",
   "metadata": {},
   "outputs": [
    {
     "data": {
      "text/plain": [
       "<matplotlib.pyplot._IonContext at 0x223e6142850>"
      ]
     },
     "execution_count": 2,
     "metadata": {},
     "output_type": "execute_result"
    }
   ],
   "source": [
    "%matplotlib qt5\n",
    "%config InlineBackend.figure_format = 'svg'\n",
    "\n",
    "plt.rcParams['figure.figsize'] = [12, 5]\n",
    "plt.rcParams['font.size'] = 13\n",
    "plt.ion()"
   ]
  },
  {
   "cell_type": "code",
   "execution_count": 3,
   "id": "783ddaae-660c-4614-808b-2f0b7699f004",
   "metadata": {},
   "outputs": [],
   "source": [
    "# [+] 함수 구현\n",
    "def f(z):\n",
    "    return z**2 - 1"
   ]
  },
  {
   "cell_type": "code",
   "execution_count": 4,
   "id": "bf202007-95d4-45cf-b7f6-97b054881051",
   "metadata": {},
   "outputs": [
    {
     "data": {
      "text/plain": [
       "-1"
      ]
     },
     "execution_count": 4,
     "metadata": {},
     "output_type": "execute_result"
    }
   ],
   "source": [
    "f(0)"
   ]
  },
  {
   "cell_type": "code",
   "execution_count": 7,
   "id": "b4f1dd70-9ae2-4437-979b-233b22360c93",
   "metadata": {},
   "outputs": [
    {
     "data": {
      "text/plain": [
       "array([15.  +0.j , -0.04-0.4j,  1.56+0.j ])"
      ]
     },
     "execution_count": 7,
     "metadata": {},
     "output_type": "execute_result"
    }
   ],
   "source": [
    "z = np.array([4, 1-0.2j, 1.6])\n",
    "f(z)"
   ]
  },
  {
   "cell_type": "code",
   "execution_count": 12,
   "id": "1b3b26f4-0596-4187-a32e-2e3453f746ab",
   "metadata": {},
   "outputs": [],
   "source": [
    "# [+] np.linspace()를 이용하여 x축, y축 값 집합을 생성\n",
    "x, y = np.meshgrid(np.linspace(-10,10,20), np.linspace(-10,10,20))"
   ]
  },
  {
   "cell_type": "code",
   "execution_count": 13,
   "id": "a55eee70-3c84-48c2-908a-e0641ef9a0ac",
   "metadata": {},
   "outputs": [],
   "source": [
    "mesh = x + 1j * y"
   ]
  },
  {
   "cell_type": "code",
   "execution_count": 14,
   "id": "5349f7ee-16dd-45e6-b126-6a662e314e73",
   "metadata": {},
   "outputs": [],
   "source": [
    "output = np.abs(f(mesh))"
   ]
  },
  {
   "cell_type": "code",
   "execution_count": 15,
   "id": "036be6f9-a47a-47e1-8523-a17ebbe0fd61",
   "metadata": {},
   "outputs": [],
   "source": [
    "fig = plt.figure()\n",
    "ax = plt.axes(projection='3d')\n",
    "\n",
    "ax.scatter(x, y, output, alpha=0.2)\n",
    "\n",
    "ax.set_xlabel('Real axis')      # 실수부\n",
    "ax.set_ylabel('Imaginary axis') # 허수부\n",
    "ax.set_zlabel('Absolute value') # 함수값의 절대값\n",
    "ax.set_title('One Iteration: $f(z) = z^2 - 1$');"
   ]
  },
  {
   "cell_type": "code",
   "execution_count": 16,
   "id": "5bb0e17d-b0de-4209-be95-3c80789de50e",
   "metadata": {},
   "outputs": [],
   "source": [
    "output = np.abs(f(f(mesh)))\n",
    "\n",
    "ax = plt.axes(projection='3d')\n",
    "\n",
    "ax.scatter(x, y, output, alpha=0.2)\n",
    "\n",
    "ax.set_xlabel('Real axis')\n",
    "ax.set_ylabel('Imaginary axis')\n",
    "ax.set_zlabel('Absolute value')\n",
    "ax.set_title('Two Iterations: $ f(z) = z^2 - 1$');"
   ]
  },
  {
   "cell_type": "code",
   "execution_count": 17,
   "id": "a16d82e7-aa0f-40eb-a14b-19a833491558",
   "metadata": {},
   "outputs": [],
   "source": [
    "selected_values = np.array([0.4 + 0.4j, 0.41 + 0.4j, 0.4 + 0.41j])\n",
    "num_iter = 9\n",
    "\n",
    "outputs = np.zeros(\n",
    "    (num_iter+1, selected_values.shape[0]),  # 10X3 Zero 배열 생성\n",
    "    dtype=complex  # 데이터 타입: 복소수\n",
    ")\n",
    "outputs[0] = selected_values   # 함수 초기 조건\n",
    "\n",
    "for i in range(num_iter):\n",
    "    outputs[i+1] = f(outputs[i])  # 10번 함수 반복하는 동안 각 결과를 저장\n",
    "\n",
    "fig, axes = plt.subplots(1, selected_values.shape[0], figsize=(16, 6))\n",
    "axes[1].set_xlabel('Real axis')\n",
    "axes[0].set_ylabel('Imaginary axis')\n",
    "\n",
    "for ax, data in zip(axes, outputs.T):\n",
    "    cycle = ax.scatter(\n",
    "        data.real,  # 실수부\n",
    "        data.imag,  # 허수부\n",
    "        c=range(data.shape[0]), \n",
    "        alpha=0.6\n",
    "    )\n",
    "    ax.set_title(f'Mapping of iterations on {data[0]}')\n",
    "\n",
    "fig.colorbar(cycle, ax=axes, location='bottom', label='Iteration');"
   ]
  },
  {
   "cell_type": "code",
   "execution_count": 18,
   "id": "ec575bf1-ca8f-46dd-a2b7-66abe8c167a6",
   "metadata": {},
   "outputs": [],
   "source": [
    "def divergence_rate(mesh, num_iter=10, radius=2):\n",
    "\n",
    "    z = mesh.copy()\n",
    "    # 값 별 반복 횟수를 저장\n",
    "    diverge_len = np.zeros(mesh.shape)\n",
    "\n",
    "    # 발산되지 않은 값들에 대해 함수를 반복 적용\n",
    "    for i in range(num_iter):\n",
    "        # [+] 1. Boolean 배열  마스크 생성\n",
    "        ...\n",
    "\n",
    "        # [+] 2. 해당 값들에 대한 diverge_len 값 증가\n",
    "        ...\n",
    "\n",
    "        # [+] 3. 해당 값들에 대해 함수 적용\n",
    "        ...\n",
    "\n",
    "    return diverge_len"
   ]
  },
  {
   "cell_type": "code",
   "execution_count": null,
   "id": "56ea32a0-c9f6-4dd8-be1f-d63fa99939f0",
   "metadata": {},
   "outputs": [],
   "source": []
  }
 ],
 "metadata": {
  "kernelspec": {
   "display_name": "Python 3 (ipykernel)",
   "language": "python",
   "name": "python3"
  },
  "language_info": {
   "codemirror_mode": {
    "name": "ipython",
    "version": 3
   },
   "file_extension": ".py",
   "mimetype": "text/x-python",
   "name": "python",
   "nbconvert_exporter": "python",
   "pygments_lexer": "ipython3",
   "version": "3.9.13"
  }
 },
 "nbformat": 4,
 "nbformat_minor": 5
}
