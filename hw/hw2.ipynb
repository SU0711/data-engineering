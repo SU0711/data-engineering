{
 "cells": [
  {
   "cell_type": "code",
   "execution_count": 1,
   "id": "1c3c1a92-6464-47cd-838c-be319a4fb6c5",
   "metadata": {},
   "outputs": [],
   "source": [
    "subjects = [\"physics\",\"calculus\",\"poetry\",\"history\"]\n",
    "grades = [98,97,85,88]\n",
    "gradebooks = [[\"physics\",98],[\"calculus\",97],[\"poetry\",85],[\"history\",88]]"
   ]
  },
  {
   "cell_type": "code",
   "execution_count": 2,
   "id": "f8261d01-4d3c-4460-a26b-bc6604e9997e",
   "metadata": {},
   "outputs": [
    {
     "name": "stdout",
     "output_type": "stream",
     "text": [
      "[['physics', 98], ['calculus', 97], ['poetry', 85], ['history', 88]]\n"
     ]
    }
   ],
   "source": [
    "print(gradebooks)"
   ]
  },
  {
   "cell_type": "code",
   "execution_count": 3,
   "id": "566c3421-050c-4956-a9d3-b3d722cd2956",
   "metadata": {},
   "outputs": [
    {
     "name": "stdout",
     "output_type": "stream",
     "text": [
      "[['physics', 98], ['calculus', 97], ['poetry', 85], ['history', 88], ['computer science', 100], ['visual arts', 93]]\n"
     ]
    }
   ],
   "source": [
    "gradebooks.append(['computer science', 100])\n",
    "gradebooks.append(['visual arts', 93])\n",
    "print(gradebooks)"
   ]
  },
  {
   "cell_type": "code",
   "execution_count": 4,
   "id": "3c4a7cf4-ae2d-4343-8154-27faa56fac39",
   "metadata": {},
   "outputs": [],
   "source": [
    "gradebooks[5][1] = gradebooks[5][1] + 5"
   ]
  },
  {
   "cell_type": "code",
   "execution_count": 5,
   "id": "40ce213e-1533-406f-866e-0dba492d12b3",
   "metadata": {},
   "outputs": [
    {
     "name": "stdout",
     "output_type": "stream",
     "text": [
      "[['physics', 98], ['calculus', 97], ['poetry', 85], ['history', 88], ['computer science', 100], ['visual arts', 98]]\n"
     ]
    }
   ],
   "source": [
    "print(gradebooks)"
   ]
  },
  {
   "cell_type": "code",
   "execution_count": 6,
   "id": "6129c373-bb5d-491b-b5ce-b4797a55bc54",
   "metadata": {},
   "outputs": [],
   "source": [
    "gradebooks[2].remove(85)\n"
   ]
  },
  {
   "cell_type": "code",
   "execution_count": 7,
   "id": "185465e7-9464-4305-8115-be1eafef21cc",
   "metadata": {},
   "outputs": [],
   "source": [
    "gradebooks[2].append('pass')"
   ]
  },
  {
   "cell_type": "code",
   "execution_count": 8,
   "id": "e43a7fb2-b3b9-4877-b0ab-587f7f9873c4",
   "metadata": {},
   "outputs": [
    {
     "name": "stdout",
     "output_type": "stream",
     "text": [
      "[['physics', 98], ['calculus', 97], ['poetry', 'pass'], ['history', 88], ['computer science', 100], ['visual arts', 98]]\n"
     ]
    }
   ],
   "source": [
    "print(gradebooks)"
   ]
  },
  {
   "cell_type": "code",
   "execution_count": 9,
   "id": "07d6941b-7d6c-47ab-a566-a3ab9080e330",
   "metadata": {},
   "outputs": [],
   "source": [
    "last_semester_gradebook = [[\"politics\", 80], [\"latin\", 96], [\"dance\", 97], [\"architecture\", 65]]"
   ]
  },
  {
   "cell_type": "code",
   "execution_count": 10,
   "id": "0e3ca698-91e3-403b-a581-0855afda4e0f",
   "metadata": {},
   "outputs": [],
   "source": [
    "full_gradebook = last_semester_gradebook + gradebooks"
   ]
  },
  {
   "cell_type": "code",
   "execution_count": 11,
   "id": "a45eaa11-ee3a-41f6-baa7-47ec829ad6e7",
   "metadata": {},
   "outputs": [
    {
     "name": "stdout",
     "output_type": "stream",
     "text": [
      "[['politics', 80], ['latin', 96], ['dance', 97], ['architecture', 65], ['physics', 98], ['calculus', 97], ['poetry', 'pass'], ['history', 88], ['computer science', 100], ['visual arts', 98]]\n"
     ]
    }
   ],
   "source": [
    "print(full_gradebook)"
   ]
  },
  {
   "cell_type": "code",
   "execution_count": null,
   "id": "030ab95e-7154-4607-9720-43d29e63113c",
   "metadata": {},
   "outputs": [],
   "source": []
  }
 ],
 "metadata": {
  "kernelspec": {
   "display_name": "Python 3 (ipykernel)",
   "language": "python",
   "name": "python3"
  },
  "language_info": {
   "codemirror_mode": {
    "name": "ipython",
    "version": 3
   },
   "file_extension": ".py",
   "mimetype": "text/x-python",
   "name": "python",
   "nbconvert_exporter": "python",
   "pygments_lexer": "ipython3",
   "version": "3.9.13"
  }
 },
 "nbformat": 4,
 "nbformat_minor": 5
}
