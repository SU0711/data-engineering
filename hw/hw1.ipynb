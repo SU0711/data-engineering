{
 "cells": [
  {
   "cell_type": "markdown",
   "id": "ab0b4126-3498-4719-8b7c-c2f2e6170198",
   "metadata": {},
   "source": [
    "# 과제 1: Receipts for Lovely Loveseats"
   ]
  },
  {
   "cell_type": "code",
   "execution_count": 30,
   "id": "e2938166-cbd4-4fea-90db-16eb59e9daa5",
   "metadata": {},
   "outputs": [
    {
     "name": "stdout",
     "output_type": "stream",
     "text": [
      "Lovely Loveseat. Tufted polyester blend on wood. 32 inches high x 40 inches wide x 30 inches deep. Red or white.\n",
      "254.0\n"
     ]
    }
   ],
   "source": [
    "lovely_loveseat_description = \"Lovely Loveseat. Tufted polyester blend on wood. 32 inches high x 40 inches wide x 30 inches deep. Red or white.\"\n",
    "print(lovely_loveseat_description)\n",
    "lovely_loveseat_price = 254.00\n",
    "print(lovely_loveseat_price)"
   ]
  },
  {
   "cell_type": "code",
   "execution_count": 31,
   "id": "f2d3709a-817a-4220-bf96-8d73363ca1c7",
   "metadata": {},
   "outputs": [],
   "source": [
    "stylish_settee_description = \"Stylish Settee. Faux leather on birch. 29.50 inches high x 54.75 inches wide x 28 inches deep. Black.\"\n",
    "stylish_settee_price = 180.50\n",
    "luxurious_lamp_description = \"Luxurious Lamp. Glass and iron. 36 inches tall. Brown with cream shade.\"\n",
    "luxurious_lamp_price = 52.15\n",
    "sales_tax = 0.088"
   ]
  },
  {
   "cell_type": "code",
   "execution_count": 32,
   "id": "fdc0b060-71a3-4a1d-b4ca-085764175cab",
   "metadata": {},
   "outputs": [],
   "source": [
    "#고객 1번\n",
    "customer_one_total = 0\n",
    "customer_one_itemization = \"\"\n",
    "customer_one_total += lovely_loveseat_price\n",
    "customer_one_itemization += lovely_loveseat_description\n",
    "customer_one_total += luxurious_lamp_price\n",
    "customer_one_itemization += luxurious_lamp_description\n",
    "customer_one_tax = customer_one_total * sales_tax\n",
    "customer_one_total = customer_one_total + customer_one_tax"
   ]
  },
  {
   "cell_type": "code",
   "execution_count": 33,
   "id": "ddb76981-0742-47f8-b0f9-901ef951d04d",
   "metadata": {},
   "outputs": [
    {
     "name": "stdout",
     "output_type": "stream",
     "text": [
      "333.09119999999996\n",
      "Lovely Loveseat. Tufted polyester blend on wood. 32 inches high x 40 inches wide x 30 inches deep. Red or white.Luxurious Lamp. Glass and iron. 36 inches tall. Brown with cream shade.\n",
      "26.941199999999995\n"
     ]
    }
   ],
   "source": [
    "print(customer_one_total)\n",
    "print(customer_one_itemization) \n",
    "print(customer_one_tax)"
   ]
  },
  {
   "cell_type": "code",
   "execution_count": 34,
   "id": "15719938-7b02-444d-bfa3-c17e90f097f7",
   "metadata": {},
   "outputs": [
    {
     "name": "stdout",
     "output_type": "stream",
     "text": [
      "Customer One Items:  Lovely Loveseat. Tufted polyester blend on wood. 32 inches high x 40 inches wide x 30 inches deep. Red or white.Luxurious Lamp. Glass and iron. 36 inches tall. Brown with cream shade.\n",
      "Customer One Total:  333.09119999999996\n"
     ]
    }
   ],
   "source": [
    "#영수증 출력\n",
    "print(\"Customer One Items: \", customer_one_itemization)\n",
    "print(\"Customer One Total: \", customer_one_total)"
   ]
  }
 ],
 "metadata": {
  "kernelspec": {
   "display_name": "Python 3 (ipykernel)",
   "language": "python",
   "name": "python3"
  },
  "language_info": {
   "codemirror_mode": {
    "name": "ipython",
    "version": 3
   },
   "file_extension": ".py",
   "mimetype": "text/x-python",
   "name": "python",
   "nbconvert_exporter": "python",
   "pygments_lexer": "ipython3",
   "version": "3.9.13"
  }
 },
 "nbformat": 4,
 "nbformat_minor": 5
}
