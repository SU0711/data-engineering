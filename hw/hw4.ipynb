{
 "cells": [
  {
   "cell_type": "code",
   "execution_count": 7,
   "id": "95bb7822-70f8-4a5b-bbdd-08c8cb28d540",
   "metadata": {},
   "outputs": [
    {
     "name": "stdout",
     "output_type": "stream",
     "text": [
      "당신의 조선시대 이름은 이쌍년 입니다.\n"
     ]
    }
   ],
   "source": [
    "def get_my_chosun_name(family_name,month,day):\n",
    "    month_name = ['쌍', '쇠', '복', '돌', '팽', '육', '쌍', '개', '칠', '갑', '삼', '방']\n",
    "    day_name =['봉', '구', '욕', '포', '똥', '삼', '식', '석', '놈', '님', '년', '돌', '단', '득', '방', '질', '장', '걸', '래', '룡', '동', '순', '자', '박', '창', '언', '것', '포', '만', '단', '국']\n",
    "    first = month_name[month - 1]\n",
    "    second = day_name[day - 1]\n",
    "    chosun_name = family_name + first + second\n",
    "    return chosun_name\n",
    "my_chosun_name = get_my_chosun_name('이', 7, 11)\n",
    "print(f'당신의 조선시대 이름은 {my_chosun_name} 입니다.')"
   ]
  },
  {
   "cell_type": "code",
   "execution_count": null,
   "id": "4044bcea-4735-4b3f-b73a-a82bca3c807c",
   "metadata": {},
   "outputs": [],
   "source": []
  }
 ],
 "metadata": {
  "kernelspec": {
   "display_name": "Python 3 (ipykernel)",
   "language": "python",
   "name": "python3"
  },
  "language_info": {
   "codemirror_mode": {
    "name": "ipython",
    "version": 3
   },
   "file_extension": ".py",
   "mimetype": "text/x-python",
   "name": "python",
   "nbconvert_exporter": "python",
   "pygments_lexer": "ipython3",
   "version": "3.9.13"
  }
 },
 "nbformat": 4,
 "nbformat_minor": 5
}
